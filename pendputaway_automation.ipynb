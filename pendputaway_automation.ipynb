{
 "cells": [
  {
   "cell_type": "code",
   "execution_count": null,
   "id": "14eee524",
   "metadata": {},
   "outputs": [],
   "source": [
    "from selenium import webdriver\n",
    "from selenium.webdriver.chrome.service import Service\n",
    "from selenium.webdriver.common.by import By\n",
    "from selenium.webdriver.support.ui import WebDriverWait\n",
    "from selenium.webdriver.support import expected_conditions as EC\n",
    "\n",
    "\n",
    "def pendputaway_automation(boxid,new_pallet,new_location,s,driver):\n",
    "    \"\"\"Handles the Putaway Receiving portion of putting a unit away. Specifically Pendputaway status.\"\"\"\n",
    "    # Make the Pendputaway URL and go to it.\n",
    "    pend_url_prefix = ('https://w16kcst2.int.hp.com/Rec/Putaway?status=7&projectID=&boxID=')\n",
    "    pend_url = pend_url_prefix + str(boxid)\n",
    "    driver.get(pend_url)\n",
    "    \n",
    "    settings_button = driver.find_element(By.CLASS_NAME, 'mdi-pencil-outline')\n",
    "    settings_button.click()\n",
    "    # Find the textboxes for filling in location and pallet as well as the save button.\n",
    "    location_field = driver.find_element(By.ID, 'SingleEdit_MDM_Location_LocationNumber')\n",
    "    pallet_field = driver.find_element(By.ID, 'txtPalletID')\n",
    "    save_button = driver.find_element(By.ID, 'btnSavePendPutaway')\n",
    "    # Fill in the textboxes and save the information.\n",
    "    location_field.clear()\n",
    "    location_field.send_keys(new_location)\n",
    "    pallet_field.clear()\n",
    "    pallet_field.send_keys(new_pallet)\n",
    "    save_button.click()\n",
    "    # Wait til the new information saves (or time out after 60 seconds)\n",
    "    try:\n",
    "        WebDriverWait(driver, 60).until(EC.url_to_be('https://w16kcst2.int.hp.com/Rec/Putaway?firstload=True'))\n",
    "    except:\n",
    "        print(\"This has taken to long\")\n",
    "        input(\"Press ENTER to continue once the page has loaded (or quit and restart from \" + grab_id + \"): \")"
   ]
  }
 ],
 "metadata": {
  "kernelspec": {
   "display_name": "Python 3 (ipykernel)",
   "language": "python",
   "name": "python3"
  },
  "language_info": {
   "codemirror_mode": {
    "name": "ipython",
    "version": 3
   },
   "file_extension": ".py",
   "mimetype": "text/x-python",
   "name": "python",
   "nbconvert_exporter": "python",
   "pygments_lexer": "ipython3",
   "version": "3.9.7"
  }
 },
 "nbformat": 4,
 "nbformat_minor": 5
}
