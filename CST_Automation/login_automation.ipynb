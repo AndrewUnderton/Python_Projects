{
 "cells": [
  {
   "cell_type": "code",
   "execution_count": null,
   "id": "622ddddf",
   "metadata": {},
   "outputs": [],
   "source": [
    "import getpass\n",
    "\n",
    "from selenium import webdriver\n",
    "from selenium.webdriver.chrome.service import Service\n",
    "from selenium.webdriver.common.by import By\n",
    "from selenium.common.exceptions import TimeoutException\n",
    "from selenium.webdriver.support.ui import WebDriverWait\n",
    "from selenium.webdriver.support import expected_conditions as EC\n",
    "\n",
    "def login_automation(s, driver):\n",
    "    \"\"\"Take input from user and Chrome driver from main script. Attempt to login to CST with that information.\"\"\"\n",
    "    cst_login_url = \"https://w16kcst2.int.hp.com/\"\n",
    "\n",
    "    # Keep asking for login until it works.\n",
    "    need_login = True\n",
    "    while need_login == True:\n",
    "        # Ask user for login information, keep password secret not plaintext.\n",
    "        email = input('Email for CST: ')\n",
    "        password = getpass.getpass('Password: ')\n",
    "        # open the login screen for CST\n",
    "        driver.get(cst_login_url)\n",
    "        # Find the CSS text fields and button for inputing login information\n",
    "        find_email = driver.find_element(By.XPATH, '//*[@id=\"Email\"]')\n",
    "        find_password = driver.find_element(By.XPATH, '//*[@id=\"Password\"]')\n",
    "        find_login = driver.find_element(By.XPATH, '/html/body/section[2]/div/div[1]/div/div/div[1]/form/div[4]/button')\n",
    "        # Input login info that user input earlier and click the login button\n",
    "        find_email.send_keys(email);\n",
    "        find_password.send_keys(password);\n",
    "        find_login.click();\n",
    "        # If Chrome doesn't go to the change log screen after trying to log in, that means it failed, so try again.\n",
    "        try:\n",
    "            WebDriverWait(driver, 4).until(EC.url_to_be('https://w16kcst2.int.hp.com/ChangeLog'))\n",
    "            need_login == False\n",
    "            print('Login successful!')\n",
    "            break\n",
    "        except TimeoutException:\n",
    "            print('Login was incorrect, please try again.')"
   ]
  }
 ],
 "metadata": {
  "kernelspec": {
   "display_name": "Python 3 (ipykernel)",
   "language": "python",
   "name": "python3"
  },
  "language_info": {
   "codemirror_mode": {
    "name": "ipython",
    "version": 3
   },
   "file_extension": ".py",
   "mimetype": "text/x-python",
   "name": "python",
   "nbconvert_exporter": "python",
   "pygments_lexer": "ipython3",
   "version": "3.9.7"
  }
 },
 "nbformat": 4,
 "nbformat_minor": 5
}
