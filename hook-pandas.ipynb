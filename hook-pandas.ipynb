{
 "cells": [
  {
   "cell_type": "code",
   "execution_count": null,
   "id": "b9538dcb",
   "metadata": {},
   "outputs": [],
   "source": [
    "from PyInstaller.utils.hooks import collect_submodules, is_module_satisfies\n",
    "\n",
    "# Pandas keeps Python extensions loaded with dynamic imports here.\n",
    "hiddenimports = collect_submodules('pandas._libs')\n",
    "\n",
    "# Pandas 1.2.0 and later require cmath hidden import on linux and macOS. On Windows, this is not strictly required, but\n",
    "# we add it anyway to keep things simple (and future-proof).\n",
    "if is_module_satisfies('pandas >= 1.2.0'):\n",
    "    hiddenimports += ['cmath']"
   ]
  }
 ],
 "metadata": {
  "kernelspec": {
   "display_name": "Python 3 (ipykernel)",
   "language": "python",
   "name": "python3"
  },
  "language_info": {
   "codemirror_mode": {
    "name": "ipython",
    "version": 3
   },
   "file_extension": ".py",
   "mimetype": "text/x-python",
   "name": "python",
   "nbconvert_exporter": "python",
   "pygments_lexer": "ipython3",
   "version": "3.9.7"
  }
 },
 "nbformat": 4,
 "nbformat_minor": 5
}
